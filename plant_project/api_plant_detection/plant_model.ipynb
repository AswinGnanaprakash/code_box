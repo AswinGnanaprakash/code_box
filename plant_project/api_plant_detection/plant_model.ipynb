{
 "cells": [
  {
   "cell_type": "code",
   "execution_count": 7,
   "metadata": {
    "scrolled": true
   },
   "outputs": [],
   "source": [
    "import numpy as np\n",
    "import pickle\n",
    "import cv2\n",
    "from os import listdir\n",
    "from sklearn.preprocessing import LabelBinarizer\n",
    "from keras.models import Sequential\n",
    "from keras.layers.normalization import BatchNormalization\n",
    "from keras.layers.convolutional import Conv2D\n",
    "from keras.layers.convolutional import MaxPooling2D\n",
    "from keras.layers.core import Activation, Flatten, Dropout, Dense\n",
    "from keras import backend as K\n",
    "from keras.preprocessing.image import ImageDataGenerator\n",
    "from keras.optimizers import Adam\n",
    "from keras.preprocessing import image\n",
    "from keras.preprocessing.image import img_to_array\n",
    "from sklearn.preprocessing import MultiLabelBinarizer\n",
    "from sklearn.model_selection import train_test_split\n",
    "import matplotlib.pyplot as plt\n",
    "import tensorflow.compat.v1 as tf\n",
    "# tf.disable_v2_behavior()"
   ]
  },
  {
   "cell_type": "code",
   "execution_count": 8,
   "metadata": {},
   "outputs": [],
   "source": [
    "EPOCHS = 25\n",
    "INIT_LR = 1e-3\n",
    "BS = 32\n",
    "default_image_size = tuple((256, 256))\n",
    "image_size = 0\n",
    "directory_root = 'PlantVillage-Dataset/raw/color'\n",
    "width=256\n",
    "height=256\n",
    "depth=3\n"
   ]
  },
  {
   "cell_type": "code",
   "execution_count": 9,
   "metadata": {},
   "outputs": [],
   "source": [
    "def convert_image_to_array(image_dir):\n",
    "  image = cv2.imread(image_dir)\n",
    "  if image is not None :\n",
    "    image = cv2.resize(image, default_image_size)   \n",
    "    return img_to_array(image)\n",
    "  else :\n",
    "    return np.array([])"
   ]
  },
  {
   "cell_type": "code",
   "execution_count": 10,
   "metadata": {},
   "outputs": [
    {
     "name": "stdout",
     "output_type": "stream",
     "text": [
      "fatal: destination path 'PlantVillage-Dataset' already exists and is not an empty directory.\r\n"
     ]
    }
   ],
   "source": [
    "!git clone https://github.com/spMohanty/PlantVillage-Dataset"
   ]
  },
  {
   "cell_type": "code",
   "execution_count": 11,
   "metadata": {},
   "outputs": [
    {
     "name": "stdout",
     "output_type": "stream",
     "text": [
      "[INFO] Loading images ...\n",
      "[INFO] Image loading completed\n"
     ]
    }
   ],
   "source": [
    "image_list, label_list = [], []\n",
    "\n",
    "print(\"[INFO] Loading images ...\")\n",
    "root_dir = listdir(directory_root)\n",
    "for plant_disease_folder in root_dir:\n",
    "    plant_disease_image_list = listdir(f\"{directory_root}/{plant_disease_folder}/\")\n",
    "    for single_plant_disease_image in plant_disease_image_list:\n",
    "        if single_plant_disease_image == \".DS_Store\" :\n",
    "            plant_disease_image_list.remove(single_plant_disease_image)\n",
    "\n",
    "    for image in plant_disease_image_list[:10]:\n",
    "        image_directory = f\"{directory_root}/{plant_disease_folder}/{image}\"\n",
    "        if image_directory.endswith(\".jpg\") == True or image_directory.endswith(\".JPG\") == True:\n",
    "            image_list.append(convert_image_to_array(image_directory))\n",
    "            label_list.append(plant_disease_folder)\n",
    "print(\"[INFO] Image loading completed\")  "
   ]
  },
  {
   "cell_type": "code",
   "execution_count": 12,
   "metadata": {},
   "outputs": [
    {
     "name": "stdout",
     "output_type": "stream",
     "text": [
      "380\n"
     ]
    }
   ],
   "source": [
    "image_size = len(image_list)\n",
    "print(image_size)"
   ]
  },
  {
   "cell_type": "code",
   "execution_count": 13,
   "metadata": {},
   "outputs": [],
   "source": [
    "label_binarizer = LabelBinarizer()\n",
    "image_labels = label_binarizer.fit_transform(label_list)\n",
    "pickle.dump(label_binarizer,open('label_transform.pkl', 'wb'))\n",
    "n_classes = len(label_binarizer.classes_)"
   ]
  },
  {
   "cell_type": "code",
   "execution_count": 14,
   "metadata": {},
   "outputs": [],
   "source": [
    "np_image_list = np.array(image_list, dtype=np.float16) / 225.0"
   ]
  },
  {
   "cell_type": "code",
   "execution_count": 15,
   "metadata": {},
   "outputs": [],
   "source": [
    "x_train, x_test, y_train, y_test = train_test_split(np_image_list, image_labels, test_size=0.2, random_state = 42) "
   ]
  },
  {
   "cell_type": "code",
   "execution_count": 16,
   "metadata": {},
   "outputs": [],
   "source": [
    "aug = ImageDataGenerator(\n",
    "    rotation_range=25, width_shift_range=0.1,\n",
    "    height_shift_range=0.1, shear_range=0.2, \n",
    "    zoom_range=0.2,horizontal_flip=True, \n",
    "    fill_mode=\"nearest\")"
   ]
  },
  {
   "cell_type": "code",
   "execution_count": 17,
   "metadata": {},
   "outputs": [
    {
     "name": "stdout",
     "output_type": "stream",
     "text": [
      "WARNING:tensorflow:From /home/saranya/Desktop/autoML/plant/plant_api/venv/lib64/python3.7/site-packages/tensorflow_core/python/ops/resource_variable_ops.py:1630: calling BaseResourceVariable.__init__ (from tensorflow.python.ops.resource_variable_ops) with constraint is deprecated and will be removed in a future version.\n",
      "Instructions for updating:\n",
      "If using Keras pass *_constraint arguments to layers.\n",
      "WARNING:tensorflow:From /home/saranya/Desktop/autoML/plant/plant_api/venv/lib64/python3.7/site-packages/keras/backend/tensorflow_backend.py:4070: The name tf.nn.max_pool is deprecated. Please use tf.nn.max_pool2d instead.\n",
      "\n"
     ]
    }
   ],
   "source": [
    "model = Sequential()\n",
    "inputShape = (height, width, depth)\n",
    "chanDim = -1\n",
    "if K.image_data_format() == \"channels_first\":\n",
    "    inputShape = (depth, height, width)\n",
    "    chanDim = 1\n",
    "model.add(Conv2D(32, (3, 3), padding=\"same\",input_shape=inputShape))\n",
    "model.add(Activation(\"relu\"))\n",
    "model.add(BatchNormalization(axis=chanDim))\n",
    "model.add(MaxPooling2D(pool_size=(3, 3)))\n",
    "model.add(Dropout(0.25))\n",
    "model.add(Conv2D(64, (3, 3), padding=\"same\"))\n",
    "model.add(Activation(\"relu\"))\n",
    "model.add(BatchNormalization(axis=chanDim))\n",
    "model.add(Conv2D(64, (3, 3), padding=\"same\"))\n",
    "model.add(Activation(\"relu\"))\n",
    "model.add(BatchNormalization(axis=chanDim))\n",
    "model.add(MaxPooling2D(pool_size=(2, 2)))\n",
    "model.add(Dropout(0.25))\n",
    "model.add(Conv2D(128, (3, 3), padding=\"same\"))\n",
    "model.add(Activation(\"relu\"))\n",
    "model.add(BatchNormalization(axis=chanDim))\n",
    "model.add(Conv2D(128, (3, 3), padding=\"same\"))\n",
    "model.add(Activation(\"relu\"))\n",
    "model.add(BatchNormalization(axis=chanDim))\n",
    "model.add(MaxPooling2D(pool_size=(2, 2)))\n",
    "model.add(Dropout(0.25))\n",
    "model.add(Flatten())\n",
    "model.add(Dense(1024))\n",
    "model.add(Activation(\"relu\"))\n",
    "model.add(BatchNormalization())\n",
    "model.add(Dropout(0.5))\n",
    "model.add(Dense(n_classes))\n",
    "model.add(Activation(\"softmax\"))"
   ]
  },
  {
   "cell_type": "code",
   "execution_count": 18,
   "metadata": {},
   "outputs": [
    {
     "name": "stdout",
     "output_type": "stream",
     "text": [
      "Model: \"sequential_1\"\n",
      "_________________________________________________________________\n",
      "Layer (type)                 Output Shape              Param #   \n",
      "=================================================================\n",
      "conv2d_1 (Conv2D)            (None, 256, 256, 32)      896       \n",
      "_________________________________________________________________\n",
      "activation_1 (Activation)    (None, 256, 256, 32)      0         \n",
      "_________________________________________________________________\n",
      "batch_normalization_1 (Batch (None, 256, 256, 32)      128       \n",
      "_________________________________________________________________\n",
      "max_pooling2d_1 (MaxPooling2 (None, 85, 85, 32)        0         \n",
      "_________________________________________________________________\n",
      "dropout_1 (Dropout)          (None, 85, 85, 32)        0         \n",
      "_________________________________________________________________\n",
      "conv2d_2 (Conv2D)            (None, 85, 85, 64)        18496     \n",
      "_________________________________________________________________\n",
      "activation_2 (Activation)    (None, 85, 85, 64)        0         \n",
      "_________________________________________________________________\n",
      "batch_normalization_2 (Batch (None, 85, 85, 64)        256       \n",
      "_________________________________________________________________\n",
      "conv2d_3 (Conv2D)            (None, 85, 85, 64)        36928     \n",
      "_________________________________________________________________\n",
      "activation_3 (Activation)    (None, 85, 85, 64)        0         \n",
      "_________________________________________________________________\n",
      "batch_normalization_3 (Batch (None, 85, 85, 64)        256       \n",
      "_________________________________________________________________\n",
      "max_pooling2d_2 (MaxPooling2 (None, 42, 42, 64)        0         \n",
      "_________________________________________________________________\n",
      "dropout_2 (Dropout)          (None, 42, 42, 64)        0         \n",
      "_________________________________________________________________\n",
      "conv2d_4 (Conv2D)            (None, 42, 42, 128)       73856     \n",
      "_________________________________________________________________\n",
      "activation_4 (Activation)    (None, 42, 42, 128)       0         \n",
      "_________________________________________________________________\n",
      "batch_normalization_4 (Batch (None, 42, 42, 128)       512       \n",
      "_________________________________________________________________\n",
      "conv2d_5 (Conv2D)            (None, 42, 42, 128)       147584    \n",
      "_________________________________________________________________\n",
      "activation_5 (Activation)    (None, 42, 42, 128)       0         \n",
      "_________________________________________________________________\n",
      "batch_normalization_5 (Batch (None, 42, 42, 128)       512       \n",
      "_________________________________________________________________\n",
      "max_pooling2d_3 (MaxPooling2 (None, 21, 21, 128)       0         \n",
      "_________________________________________________________________\n",
      "dropout_3 (Dropout)          (None, 21, 21, 128)       0         \n",
      "_________________________________________________________________\n",
      "flatten_1 (Flatten)          (None, 56448)             0         \n",
      "_________________________________________________________________\n",
      "dense_1 (Dense)              (None, 1024)              57803776  \n",
      "_________________________________________________________________\n",
      "activation_6 (Activation)    (None, 1024)              0         \n",
      "_________________________________________________________________\n",
      "batch_normalization_6 (Batch (None, 1024)              4096      \n",
      "_________________________________________________________________\n",
      "dropout_4 (Dropout)          (None, 1024)              0         \n",
      "_________________________________________________________________\n",
      "dense_2 (Dense)              (None, 38)                38950     \n",
      "_________________________________________________________________\n",
      "activation_7 (Activation)    (None, 38)                0         \n",
      "=================================================================\n",
      "Total params: 58,126,246\n",
      "Trainable params: 58,123,366\n",
      "Non-trainable params: 2,880\n",
      "_________________________________________________________________\n"
     ]
    }
   ],
   "source": [
    "model.summary()"
   ]
  },
  {
   "cell_type": "code",
   "execution_count": 19,
   "metadata": {},
   "outputs": [
    {
     "name": "stdout",
     "output_type": "stream",
     "text": [
      "[INFO] training network...\n"
     ]
    }
   ],
   "source": [
    "opt = Adam(lr=INIT_LR, decay=INIT_LR / EPOCHS)\n",
    "# distribution\n",
    "model.compile(loss=\"binary_crossentropy\", optimizer=opt,metrics=[\"accuracy\"])\n",
    "# train the network\n",
    "print(\"[INFO] training network...\")"
   ]
  },
  {
   "cell_type": "code",
   "execution_count": 20,
   "metadata": {},
   "outputs": [
    {
     "name": "stdout",
     "output_type": "stream",
     "text": [
      "WARNING:tensorflow:From /home/saranya/Desktop/autoML/plant/plant_api/venv/lib64/python3.7/site-packages/tensorflow_core/python/ops/math_grad.py:1424: where (from tensorflow.python.ops.array_ops) is deprecated and will be removed in a future version.\n",
      "Instructions for updating:\n",
      "Use tf.where in 2.0, which has the same broadcast rule as np.where\n",
      "WARNING:tensorflow:From /home/saranya/Desktop/autoML/plant/plant_api/venv/lib64/python3.7/site-packages/keras/backend/tensorflow_backend.py:422: The name tf.global_variables is deprecated. Please use tf.compat.v1.global_variables instead.\n",
      "\n",
      "Epoch 1/25\n",
      "9/9 [==============================] - 34s 4s/step - loss: 0.1503 - accuracy: 0.9685 - val_loss: 0.1261 - val_accuracy: 0.9737\n",
      "Epoch 2/25\n",
      "9/9 [==============================] - 33s 4s/step - loss: 0.1235 - accuracy: 0.9716 - val_loss: 0.1720 - val_accuracy: 0.9713\n",
      "Epoch 3/25\n",
      "9/9 [==============================] - 34s 4s/step - loss: 0.1116 - accuracy: 0.9709 - val_loss: 0.2125 - val_accuracy: 0.9726\n",
      "Epoch 4/25\n",
      "9/9 [==============================] - 35s 4s/step - loss: 0.0951 - accuracy: 0.9726 - val_loss: 0.2340 - val_accuracy: 0.9643\n",
      "Epoch 5/25\n",
      "9/9 [==============================] - 40s 4s/step - loss: 0.0878 - accuracy: 0.9749 - val_loss: 0.2187 - val_accuracy: 0.9501\n",
      "Epoch 6/25\n",
      "9/9 [==============================] - 35s 4s/step - loss: 0.0819 - accuracy: 0.9750 - val_loss: 0.2410 - val_accuracy: 0.9737\n",
      "Epoch 7/25\n",
      "9/9 [==============================] - 34s 4s/step - loss: 0.0725 - accuracy: 0.9763 - val_loss: 0.2753 - val_accuracy: 0.9612\n",
      "Epoch 8/25\n",
      "9/9 [==============================] - 34s 4s/step - loss: 0.0659 - accuracy: 0.9785 - val_loss: 0.3380 - val_accuracy: 0.9474\n",
      "Epoch 9/25\n",
      "9/9 [==============================] - 35s 4s/step - loss: 0.0664 - accuracy: 0.9787 - val_loss: 0.3122 - val_accuracy: 0.9619\n",
      "Epoch 10/25\n",
      "9/9 [==============================] - 33s 4s/step - loss: 0.0712 - accuracy: 0.9764 - val_loss: 0.3176 - val_accuracy: 0.9550\n",
      "Epoch 11/25\n",
      "9/9 [==============================] - 34s 4s/step - loss: 0.0552 - accuracy: 0.9810 - val_loss: 0.3912 - val_accuracy: 0.9474\n",
      "Epoch 12/25\n",
      "9/9 [==============================] - 35s 4s/step - loss: 0.0453 - accuracy: 0.9825 - val_loss: 0.3658 - val_accuracy: 0.9491\n",
      "Epoch 13/25\n",
      "9/9 [==============================] - 32s 4s/step - loss: 0.0534 - accuracy: 0.9814 - val_loss: 0.3180 - val_accuracy: 0.9529\n",
      "Epoch 14/25\n",
      "9/9 [==============================] - 34s 4s/step - loss: 0.0547 - accuracy: 0.9807 - val_loss: 0.3419 - val_accuracy: 0.9515\n",
      "Epoch 15/25\n",
      "9/9 [==============================] - 32s 4s/step - loss: 0.0501 - accuracy: 0.9823 - val_loss: 0.3311 - val_accuracy: 0.9574\n",
      "Epoch 16/25\n",
      "9/9 [==============================] - 36s 4s/step - loss: 0.0475 - accuracy: 0.9830 - val_loss: 0.4095 - val_accuracy: 0.9474\n",
      "Epoch 17/25\n",
      "9/9 [==============================] - 34s 4s/step - loss: 0.0412 - accuracy: 0.9868 - val_loss: 0.3228 - val_accuracy: 0.9584\n",
      "Epoch 18/25\n",
      "9/9 [==============================] - 37s 4s/step - loss: 0.0435 - accuracy: 0.9829 - val_loss: 0.3122 - val_accuracy: 0.9574\n",
      "Epoch 19/25\n",
      "9/9 [==============================] - 38s 4s/step - loss: 0.0402 - accuracy: 0.9864 - val_loss: 0.3292 - val_accuracy: 0.9609\n",
      "Epoch 20/25\n",
      "9/9 [==============================] - 36s 4s/step - loss: 0.0327 - accuracy: 0.9883 - val_loss: 0.3509 - val_accuracy: 0.9522\n",
      "Epoch 21/25\n",
      "9/9 [==============================] - 34s 4s/step - loss: 0.0409 - accuracy: 0.9845 - val_loss: 0.3023 - val_accuracy: 0.9595\n",
      "Epoch 22/25\n",
      "9/9 [==============================] - 35s 4s/step - loss: 0.0302 - accuracy: 0.9892 - val_loss: 0.2858 - val_accuracy: 0.9529\n",
      "Epoch 23/25\n",
      "9/9 [==============================] - 35s 4s/step - loss: 0.0343 - accuracy: 0.9883 - val_loss: 0.3839 - val_accuracy: 0.9477\n",
      "Epoch 24/25\n",
      "9/9 [==============================] - 35s 4s/step - loss: 0.0320 - accuracy: 0.9880 - val_loss: 0.3189 - val_accuracy: 0.9543\n",
      "Epoch 25/25\n",
      "9/9 [==============================] - 32s 4s/step - loss: 0.0323 - accuracy: 0.9887 - val_loss: 0.3348 - val_accuracy: 0.9494\n"
     ]
    }
   ],
   "source": [
    "history = model.fit_generator(\n",
    "    aug.flow(x_train, y_train, batch_size=BS),\n",
    "    validation_data=(x_test, y_test),\n",
    "    steps_per_epoch=len(x_train) // BS,\n",
    "    epochs=EPOCHS, verbose=1\n",
    "    )"
   ]
  },
  {
   "cell_type": "code",
   "execution_count": 24,
   "metadata": {},
   "outputs": [
    {
     "name": "stdout",
     "output_type": "stream",
     "text": [
      "{'val_loss': [0.1261068747231835, 0.1720320927469354, 0.21252467757777163, 0.23401086189244924, 0.2186902416379828, 0.24096143873114334, 0.2753047174529025, 0.3379671636380647, 0.31216356785673843, 0.3176016070340809, 0.39120108046029745, 0.3658155328349063, 0.3179921225497597, 0.3419184606326254, 0.3311161289089604, 0.40953279796399567, 0.3228006347229606, 0.31215670547987284, 0.3292026755056883, 0.3508642613887787, 0.30231965058728266, 0.28584548517277364, 0.3838544472267753, 0.31894806968538386, 0.334772400165859], 'val_accuracy': [0.9736841917037964, 0.9712603688240051, 0.9726454019546509, 0.9643352031707764, 0.950138509273529, 0.9736841917037964, 0.9612188935279846, 0.9473684430122375, 0.9619113802909851, 0.9549861550331116, 0.9473684430122375, 0.9490997791290283, 0.9529085755348206, 0.9515235424041748, 0.9574100375175476, 0.9473684430122375, 0.9584488272666931, 0.9574100375175476, 0.9608725309371948, 0.9522160887718201, 0.9594876170158386, 0.9529085755348206, 0.9477147459983826, 0.9542937278747559, 0.9494460225105286], 'loss': [0.14901165664196014, 0.1224735826253891, 0.11155248847272661, 0.09543901076540351, 0.08782320676578416, 0.08137564536403208, 0.07289698895286112, 0.06523817207883387, 0.06609564055414761, 0.06908422138761072, 0.05489940481150851, 0.0453159376564953, 0.05216856161132455, 0.05466519999835226, 0.04850199352949858, 0.04753622164328893, 0.0409169201465214, 0.042779819492031544, 0.038317757932578814, 0.03173430373563486, 0.04135039536391988, 0.030225948120156925, 0.03466103401254205, 0.03218613806016305, 0.031491311616264284], 'accuracy': [0.9684597, 0.9715556, 0.9708516, 0.97255343, 0.9748722, 0.97503865, 0.97629637, 0.9785217, 0.9787151, 0.9763931, 0.981037, 0.9825475, 0.98139393, 0.98072, 0.9823191, 0.98300433, 0.9868421, 0.98287535, 0.9863584, 0.98829335, 0.9845201, 0.9892179, 0.98829323, 0.98800313, 0.98869246]}\n"
     ]
    },
    {
     "data": {
      "image/png": "[encoded data removed]",
      "text/plain": [
       "<Figure size 432x288 with 1 Axes>"
      ]
     },
     "metadata": {
      "needs_background": "light"
     },
     "output_type": "display_data"
    },
    {
     "data": {
      "image/png": "[encoded data removed]",
      "text/plain": [
       "<Figure size 432x288 with 1 Axes>"
      ]
     },
     "metadata": {
      "needs_background": "light"
     },
     "output_type": "display_data"
    }
   ],
   "source": [
    "print(history.history)\n",
    "acc = history.history['accuracy']\n",
    "val_acc = history.history['val_accuracy']\n",
    "loss = history.history['loss']\n",
    "val_loss = history.history['val_loss']\n",
    "epochs = range(1, len(acc) + 1)\n",
    "#Train and validation accuracy\n",
    "plt.plot(epochs, acc, 'b', label='Training accurarcy')\n",
    "plt.plot(epochs, val_acc, 'r', label='Validation accurarcy')\n",
    "plt.title('Training and Validation accurarcy')\n",
    "plt.legend()\n",
    "\n",
    "plt.figure()\n",
    "#Train and validation loss\n",
    "plt.plot(epochs, loss, 'b', label='Training loss')\n",
    "plt.plot(epochs, val_loss, 'r', label='Validation loss')\n",
    "plt.title('Training and Validation loss')\n",
    "plt.legend()\n",
    "plt.show()"
   ]
  },
  {
   "cell_type": "code",
   "execution_count": 25,
   "metadata": {},
   "outputs": [
    {
     "name": "stdout",
     "output_type": "stream",
     "text": [
      "[INFO] Calculating model accuracy\n",
      "Corn_(maize)___Cercospora_leaf_spot Gray_leaf_spot\n"
     ]
    }
   ],
   "source": [
    "print(\"[INFO] Calculating model accuracy\")\n",
    "predict = model.predict(x_test)\n",
    "val = label_binarizer.inverse_transform(predict)[0]\n",
    "print(val)"
   ]
  },
  {
   "cell_type": "code",
   "execution_count": 26,
   "metadata": {},
   "outputs": [
    {
     "name": "stdout",
     "output_type": "stream",
     "text": [
      "[INFO] Saving model...\n"
     ]
    }
   ],
   "source": [
    "# _(# save the model to disk\n",
    "print(\"[INFO] Saving model...\")\n",
    "pickle.dump(model,open('cnn_model.pkl', 'wb'))"
   ]
  },
  {
   "cell_type": "code",
   "execution_count": 54,
   "metadata": {},
   "outputs": [],
   "source": [
    "from __future__ import absolute_import, division, print_function, unicode_literals\n",
    "import os\n",
    "\n",
    "import tensorflow as tf\n",
    "\n",
    "import cProfile"
   ]
  },
  {
   "cell_type": "code",
   "execution_count": 6,
   "metadata": {},
   "outputs": [
    {
     "data": {
      "text/plain": [
       "False"
      ]
     },
     "execution_count": 6,
     "metadata": {},
     "output_type": "execute_result"
    }
   ],
   "source": [
    "tf.executing_eagerly()"
   ]
  },
  {
   "cell_type": "code",
   "execution_count": null,
   "metadata": {},
   "outputs": [],
   "source": []
  }
 ],
 "metadata": {
  "kernelspec": {
   "display_name": "Python 3",
   "language": "python",
   "name": "python3"
  },
  "language_info": {
   "codemirror_mode": {
    "name": "ipython",
    "version": 3
   },
   "file_extension": ".py",
   "mimetype": "text/x-python",
   "name": "python",
   "nbconvert_exporter": "python",
   "pygments_lexer": "ipython3",
   "version": "3.7.4"
  }
 },
 "nbformat": 4,
 "nbformat_minor": 4
}
