{
 "cells": [
  {
   "cell_type": "code",
   "execution_count": 214,
   "metadata": {},
   "outputs": [],
   "source": [
    "from sklearn.datasets import load_digits\n",
    "digits = load_digits()"
   ]
  },
  {
   "cell_type": "code",
   "execution_count": 215,
   "metadata": {},
   "outputs": [
    {
     "data": {
      "image/png": "[encoded data removed]",
      "text/plain": [
       "<Figure size 1440x288 with 5 Axes>"
      ]
     },
     "metadata": {
      "needs_background": "light"
     },
     "output_type": "display_data"
    }
   ],
   "source": [
    "import numpy as np \n",
    "import matplotlib.pyplot as plt\n",
    "plt.figure(figsize=(20,4))\n",
    "for index, (image, label) in enumerate(zip(digits.data[0:5], digits.target[0:5])):\n",
    " plt.subplot(1, 5, index + 1)\n",
    " plt.imshow(np.reshape(image, (8,8)), cmap=plt.cm.gray)\n",
    " plt.title('Training: %i\\n' % label, fontsize = 20)"
   ]
  },
  {
   "cell_type": "code",
   "execution_count": 216,
   "metadata": {},
   "outputs": [],
   "source": [
    "from sklearn.model_selection import train_test_split\n",
    "x_train, x_test, y_train, y_test = train_test_split(digits.data, digits.target, test_size=0.20, random_state=0)"
   ]
  },
  {
   "cell_type": "code",
   "execution_count": 217,
   "metadata": {},
   "outputs": [],
   "source": [
    "formatshuffle_index = np.random.permutation(1437)\n",
    "x_train, y_train = x_train[shuffle_index], y_train[shuffle_index]"
   ]
  },
  {
   "cell_type": "markdown",
   "metadata": {},
   "source": [
    "# Linear Model"
   ]
  },
  {
   "cell_type": "code",
   "execution_count": 218,
   "metadata": {},
   "outputs": [],
   "source": [
    "\"\"\"\n",
    "1. Ordinary linear regression\n",
    "\"\"\"\n",
    "def linear_regression(x_train, y_train, x_test, y_test):\n",
    "    from sklearn import linear_model\n",
    "    linear = linear_model.LinearRegression()\n",
    "    linear.fit(x_train, y_train)\n",
    "    value = linear.score(x_test, y_test)\n",
    "    return \"{0:.2f}\".format(value)"
   ]
  },
  {
   "cell_type": "code",
   "execution_count": 219,
   "metadata": {},
   "outputs": [],
   "source": [
    "\"\"\"\n",
    "2. Ridge regression\n",
    "\"\"\"\n",
    "def linear_ridge(x_train, y_train, x_test, y_test):\n",
    "    from sklearn import linear_model\n",
    "    linear = linear_model.Ridge(alpha=.5)\n",
    "    linear.fit(x_train, y_train)\n",
    "    value = linear.score(x_test, y_test)\n",
    "    return \"{0:.2f}\".format(value)"
   ]
  },
  {
   "cell_type": "code",
   "execution_count": 220,
   "metadata": {},
   "outputs": [],
   "source": [
    "\"\"\"\n",
    "3. Lasso regression\n",
    "\"\"\"\n",
    "def linear_lasso(x_train, y_train, x_test, y_test):\n",
    "    from sklearn import linear_model\n",
    "    linear = linear_model.Lasso(alpha=0.1)\n",
    "    linear.fit(x_train, y_train)\n",
    "    value = linear.score(x_test, y_test)\n",
    "    return \"{0:.2f}\".format(value)"
   ]
  },
  {
   "cell_type": "code",
   "execution_count": 221,
   "metadata": {},
   "outputs": [],
   "source": [
    "\"\"\"\n",
    "4. LassoLars regression\n",
    "\"\"\"\n",
    "def linear_lassolars(x_train, y_train, x_test, y_test):\n",
    "    from sklearn import linear_model\n",
    "    linear = linear_model.LassoLars(alpha=.1)\n",
    "    linear.fit(x_train, y_train)\n",
    "    value = linear.score(x_test, y_test)\n",
    "    return \"{0:.2f}\".format(value) "
   ]
  },
  {
   "cell_type": "code",
   "execution_count": 222,
   "metadata": {},
   "outputs": [],
   "source": [
    "\"\"\"\n",
    "5. Bayesian Regression\n",
    "\"\"\"\n",
    "def linear_bayesian_reidge(x_train, y_train, x_test, y_test):\n",
    "    from sklearn import linear_model\n",
    "    linear = linear_model.BayesianRidge()\n",
    "    linear.fit(x_train, y_train)\n",
    "    value = linear.score(x_test, y_test)\n",
    "    return \"{0:.2f}\".format(value)  "
   ]
  },
  {
   "cell_type": "code",
   "execution_count": 223,
   "metadata": {},
   "outputs": [],
   "source": [
    "\"\"\"\n",
    "6. RANSAC: RANdom SAmple Consensus\n",
    "\"\"\"\n",
    "def ransac_regressor(x_train, y_train, x_test, y_test):\n",
    "    from sklearn import linear_model\n",
    "    linear = linear_model.RANSACRegressor()\n",
    "    linear.fit(x_train, y_train)\n",
    "    value = linear.score(x_test, y_test)\n",
    "    return \"{0:.2f}\".format(value)   "
   ]
  },
  {
   "cell_type": "code",
   "execution_count": 224,
   "metadata": {},
   "outputs": [],
   "source": [
    "\"\"\"\n",
    "7. Logistic Regression\n",
    "\"\"\"\n",
    "def logistic_regression(x_train, y_train, x_test, y_test):\n",
    "    from sklearn import linear_model\n",
    "    linear = linear_model.LogisticRegression()\n",
    "    linear.fit(x_train, y_train)\n",
    "    value = linear.score(x_test, y_test)\n",
    "    return \"{0:.2f}\".format(value)"
   ]
  },
  {
   "cell_type": "markdown",
   "metadata": {},
   "source": [
    "# Linear and Quadratic Discriminant "
   ]
  },
  {
   "cell_type": "code",
   "execution_count": 225,
   "metadata": {},
   "outputs": [],
   "source": [
    "\"\"\"\n",
    "8. Linear Discriminant Analysis\n",
    "\"\"\"\n",
    "def linear_discriminant_analysis(x_train, y_train, x_test, y_test):\n",
    "    from sklearn.discriminant_analysis import LinearDiscriminantAnalysis \n",
    "    linear = LinearDiscriminantAnalysis(solver=\"svd\", store_covariance=True)\n",
    "    linear.fit(x_train, y_train)\n",
    "    value = linear.score(x_test, y_test)\n",
    "    return \"{0:.2f}\".format(value)"
   ]
  },
  {
   "cell_type": "code",
   "execution_count": 226,
   "metadata": {},
   "outputs": [],
   "source": [
    "\"\"\"\n",
    "9. Quadratic Discriminant Analysis\n",
    "\"\"\"\n",
    "def quadratic_discriminant_analysis(x_train, y_train, x_test, y_test):\n",
    "    from sklearn.discriminant_analysis import QuadraticDiscriminantAnalysis\n",
    "    linear = QuadraticDiscriminantAnalysis(store_covariance=True)\n",
    "    linear.fit(x_train, y_train)\n",
    "    value = linear.score(x_test, y_test)\n",
    "    return \"{0:.2f}\".format(value) "
   ]
  },
  {
   "cell_type": "code",
   "execution_count": 227,
   "metadata": {},
   "outputs": [],
   "source": [
    "\"\"\"\n",
    "10. Normal Linear Discriminant\n",
    "\"\"\"\n",
    "def linear_discriminant_analysis_auto(x_train, y_train, x_test, y_test):\n",
    "    from sklearn.discriminant_analysis import LinearDiscriminantAnalysis\n",
    "    linear = LinearDiscriminantAnalysis(solver='lsqr', shrinkage='auto')\n",
    "    linear.fit(x_train, y_train)\n",
    "    value = linear.score(x_test, y_test)\n",
    "    return \"{0:.2f}\".format(value)  "
   ]
  },
  {
   "cell_type": "code",
   "execution_count": 228,
   "metadata": {},
   "outputs": [],
   "source": [
    "\"\"\"\n",
    "11. Shrinkage Linear Discriminant\n",
    "\"\"\"\n",
    "def import operator(x_train, y_train, x_test, y_test):\n",
    "    from sklearn.discriminant_analysis import LinearDiscriminantAnalysis\n",
    "    linear = LinearDiscriminantAnalysis(solver='lsqr', shrinkage=None)\n",
    "    linear.fit(x_train, y_train)\n",
    "    value = linear.score(x_test, y_test)\n",
    "    return \"{0:.2f}\".format(value)   "
   ]
  },
  {
   "cell_type": "markdown",
   "metadata": {},
   "source": [
    "# Support Vector Machines"
   ]
  },
  {
   "cell_type": "code",
   "execution_count": 229,
   "metadata": {},
   "outputs": [],
   "source": [
    "\"\"\"\n",
    "12. Classification SVM\n",
    "\"\"\"\n",
    "def svc(x_train, y_train, x_test, y_test):\n",
    "    from sklearn import svm\n",
    "    clf = svm.SVC()\n",
    "    clf.fit(x_train, y_train)\n",
    "    value = clf.score(x_test, y_test)\n",
    "    return \"{0:.2f}\".format(value)    "
   ]
  },
  {
   "cell_type": "code",
   "execution_count": 230,
   "metadata": {},
   "outputs": [],
   "source": [
    "\"\"\"\n",
    "13. Regression SVM\n",
    "\"\"\"\n",
    "def import operator(x_train, y_train, x_test, y_test):\n",
    "    from sklearn import svm\n",
    "    clf = svm.SVR()\n",
    "    clf.fit(x_train, y_train)\n",
    "    value = clf.score(x_test, y_test)\n",
    "    return \"{0:.2f}\".format(value)"
   ]
  },
  {
   "cell_type": "code",
   "execution_count": 231,
   "metadata": {},
   "outputs": [],
   "source": [
    "\"\"\"\n",
    "14. Linear SVM classifier\n",
    "\"\"\"\n",
    "def linear_svc(x_train, y_train, x_test, y_test):\n",
    "    from sklearn import svm\n",
    "    clf = svm.LinearSVC()\n",
    "    clf.fit(x_train, y_train)\n",
    "    value = clf.score(x_test, y_test)\n",
    "    return \"{0:.2f}\".format(value)"
   ]
  },
  {
   "cell_type": "markdown",
   "metadata": {},
   "source": [
    "# Stochastic Gradient Descent"
   ]
  },
  {
   "cell_type": "code",
   "execution_count": 232,
   "metadata": {},
   "outputs": [],
   "source": [
    "\"\"\"\n",
    "15. Classification SGD\n",
    "\"\"\"\n",
    "def sgd_classifier(x_train, y_train, x_test, y_test):\n",
    "    from sklearn.linear_model import SGDClassifier\n",
    "    clf = SGDClassifier()\n",
    "    clf.fit(x_train, y_train)\n",
    "    value = clf.score(x_test, y_test)\n",
    "    return \"{0:.2f}\".format(value)"
   ]
  },
  {
   "cell_type": "code",
   "execution_count": 233,
   "metadata": {},
   "outputs": [],
   "source": [
    "\"\"\"\n",
    "16. Classification SGD\n",
    "\"\"\"\n",
    "def sdg_regressor(x_train, y_train, x_test, y_test):\n",
    "    from sklearn.linear_model import SGDRegressor\n",
    "    clf = SGDRegressor()\n",
    "    clf.fit(x_train, y_train)\n",
    "    value = clf.score(x_test, y_test)\n",
    "    return \"{0:.2f}\".format(value)"
   ]
  },
  {
   "cell_type": "markdown",
   "metadata": {},
   "source": [
    "# Nearest Neighbors"
   ]
  },
  {
   "cell_type": "code",
   "execution_count": 234,
   "metadata": {},
   "outputs": [],
   "source": [
    "\"\"\"\n",
    "17. Nearest Centroid Classifier\n",
    "\"\"\"\n",
    "def nearest_centroid(x_train, y_train, x_test, y_test):\n",
    "    from sklearn.neighbors import NearestCentroid\n",
    "    clf = NearestCentroid()\n",
    "    clf.fit(x_train, y_train)\n",
    "    value = clf.score(x_test, y_test)\n",
    "    return \"{0:.2f}\".format(value)"
   ]
  },
  {
   "cell_type": "code",
   "execution_count": 235,
   "metadata": {},
   "outputs": [],
   "source": [
    "\"\"\"\n",
    "18. KNeighborsClassifier\n",
    "\"\"\"\n",
    "def kneighbors_classifier(x_train, y_train, x_test, y_test):\n",
    "    from sklearn.neighbors import KNeighborsClassifier\n",
    "    clf = KNeighborsClassifier()\n",
    "    clf.fit(x_train, y_train)\n",
    "    value = clf.score(x_test, y_test)\n",
    "    return \"{0:.2f}\".format(value)"
   ]
  },
  {
   "cell_type": "markdown",
   "metadata": {},
   "source": [
    "# Naive Bayes"
   ]
  },
  {
   "cell_type": "code",
   "execution_count": 236,
   "metadata": {},
   "outputs": [],
   "source": [
    "\"\"\"\n",
    "19. Gaussian Naive Bayes\n",
    "\"\"\"\n",
    "def gaussian_nb(x_train, y_train, x_test, y_test):\n",
    "    from sklearn.naive_bayes import GaussianNB\n",
    "    clf = GaussianNB()\n",
    "    clf.fit(x_train, y_train)\n",
    "    value = clf.score(x_test, y_test)  \n",
    "    return \"{0:.2f}\".format(value)"
   ]
  },
  {
   "cell_type": "code",
   "execution_count": 237,
   "metadata": {},
   "outputs": [],
   "source": [
    "\"\"\"\n",
    "20. Bernoulli Naive Bayes\n",
    "\"\"\"\n",
    "def bernoulli_nb(x_train, y_train, x_test, y_test):\n",
    "    from sklearn.naive_bayes import BernoulliNB\n",
    "    clf = BernoulliNB()\n",
    "    clf.fit(x_train, y_train)\n",
    "    value = clf.score(x_test, y_test)\n",
    "    return \"{0:.2f}\".format(value)"
   ]
  },
  {
   "cell_type": "code",
   "execution_count": 238,
   "metadata": {},
   "outputs": [],
   "source": [
    "\"\"\"\n",
    "21. Multinomial Naive Bayes\n",
    "\"\"\"\n",
    "def multinomial_nb(x_train, y_train, x_test, y_test):\n",
    "    from sklearn.naive_bayes import MultinomialNB\n",
    "    clf = MultinomialNB()\n",
    "    clf.fit(x_train, y_train)\n",
    "    value = clf.score(x_test, y_test)\n",
    "    return \"{0:.2f}\".format(value)"
   ]
  },
  {
   "cell_type": "markdown",
   "metadata": {},
   "source": [
    "# Decision Trees"
   ]
  },
  {
   "cell_type": "code",
   "execution_count": 239,
   "metadata": {},
   "outputs": [],
   "source": [
    "\"\"\"\n",
    "22. Classification decision trees\n",
    "\"\"\"\n",
    "def decision_tree_classifier(x_train, y_train, x_test, y_test):\n",
    "    from sklearn import tree\n",
    "    tree = tree.DecisionTreeClassifier()\n",
    "    tree.fit(x_train, y_train)\n",
    "    value = tree.score(x_test, y_test)\n",
    "    return \"{0:.2f}\".format(value)"
   ]
  },
  {
   "cell_type": "code",
   "execution_count": 240,
   "metadata": {},
   "outputs": [],
   "source": [
    "\"\"\"\n",
    "23. Regressor decision trees\n",
    "\"\"\"\n",
    "def decision_tree_regressor(x_train, y_train, x_test, y_test):\n",
    "    from sklearn import tree\n",
    "    tree = tree.DecisionTreeRegressor()\n",
    "    tree.fit(x_train, y_train)\n",
    "    value = tree.score(x_test, y_test)\n",
    "    return \"{0:.2f}\".format(value)"
   ]
  },
  {
   "cell_type": "markdown",
   "metadata": {},
   "source": [
    "# Ensemble methods"
   ]
  },
  {
   "cell_type": "code",
   "execution_count": 241,
   "metadata": {},
   "outputs": [],
   "source": [
    "\"\"\"\n",
    "24. Bagging meta-estimator\n",
    "\"\"\"\n",
    "def bagging_classifier(x_train, y_train, x_test, y_test):\n",
    "    from sklearn.ensemble import BaggingClassifier\n",
    "    ensem = BaggingClassifier()\n",
    "    ensem.fit(x_train, y_train)\n",
    "    value = ensem.score(x_test, y_test)\n",
    "    return \"{0:.2f}\".format(value)"
   ]
  },
  {
   "cell_type": "code",
   "execution_count": 242,
   "metadata": {},
   "outputs": [],
   "source": [
    "\"\"\"\n",
    "25. Forests of randomized trees\n",
    "\"\"\"\n",
    "def random_forest_classifier(x_train, y_train, x_test, y_test):\n",
    "    from sklearn.ensemble import RandomForestClassifier\n",
    "    ensem = RandomForestClassifier(n_estimators=10)\n",
    "    ensem.fit(x_train, y_train)\n",
    "    value = ensem.score(x_test, y_test)\n",
    "    return \"{0:.2f}\".format(value)"
   ]
  },
  {
   "cell_type": "code",
   "execution_count": 243,
   "metadata": {},
   "outputs": [],
   "source": [
    "\"\"\"\n",
    "26. Extremely Randomized Trees\n",
    "\"\"\"\n",
    "def extra_trees_classifier(x_train, y_train, x_test, y_test):\n",
    "    from sklearn.ensemble import ExtraTreesClassifier\n",
    "    ensem = ExtraTreesClassifier()\n",
    "    ensem.fit(x_train, y_train)\n",
    "    value = ensem.score(x_test, y_test)\n",
    "    return \"{0:.2f}\".format(value)"
   ]
  },
  {
   "cell_type": "code",
   "execution_count": 244,
   "metadata": {},
   "outputs": [],
   "source": [
    "\"\"\"\n",
    "27. AdaBoost\n",
    "\"\"\"\n",
    "def ada_boost_classifier(x_train, y_train, x_test, y_test):\n",
    "    from sklearn.ensemble import AdaBoostClassifier\n",
    "    ensem = AdaBoostClassifier()\n",
    "    ensem.fit(x_train, y_train)\n",
    "    value = ensem.score(x_test, y_test)\n",
    "    return \"{0:.2f}\".format(value)"
   ]
  },
  {
   "cell_type": "code",
   "execution_count": 245,
   "metadata": {},
   "outputs": [],
   "source": [
    "\"\"\"\n",
    "28. Gradient Tree Boosting Classifier\n",
    "\"\"\"\n",
    "def gradient_boosting_classifier(x_train, y_train, x_test, y_test):\n",
    "    from sklearn.ensemble import GradientBoostingClassifier\n",
    "    ensem = GradientBoostingClassifier(random_state=0)\n",
    "    ensem.fit(x_train, y_train)\n",
    "    value = ensem.score(x_test, y_test)\n",
    "    return \"{0:.2f}\".format(value)"
   ]
  },
  {
   "cell_type": "code",
   "execution_count": 254,
   "metadata": {},
   "outputs": [],
   "source": [
    "\"\"\"\n",
    "29. Gradient Tree Boosting Regressor\n",
    "\"\"\"\n",
    "def gradient_boosting_regressor(x_train, y_train, x_test, y_test):\n",
    "    from sklearn.ensemble import GradientBoostingRegressor\n",
    "    ensem = GradientBoostingRegressor(random_state=0)\n",
    "    ensem.fit(x_train, y_train)\n",
    "    value = ensem.score(x_test, y_test)\n",
    "    return \"{0:.2f}\".format(value)"
   ]
  },
  {
   "cell_type": "code",
   "execution_count": 247,
   "metadata": {},
   "outputs": [],
   "source": [
    "\"\"\"\n",
    "30. Histogram-Based Gradient Boosting\n",
    "\"\"\"\n",
    "def hist_gradient_boosting_classifier(x_train, y_train, x_test, y_test):\n",
    "    from sklearn.experimental import enable_hist_gradient_boosting\n",
    "    from sklearn.ensemble import HistGradientBoostingClassifier\n",
    "    ensem = HistGradientBoostingClassifier()\n",
    "    ensem.fit(x_train, y_train)\n",
    "    value = ensem.score(x_test, y_test)\n",
    "    return \"{0:.2f}\".format(value)"
   ]
  },
  {
   "cell_type": "markdown",
   "metadata": {},
   "source": [
    "# Semi-Supervised"
   ]
  },
  {
   "cell_type": "code",
   "execution_count": 248,
   "metadata": {},
   "outputs": [],
   "source": [
    "\"\"\"\n",
    "31. LabelSpreading \n",
    "\"\"\"\n",
    "def label_spreading(x_train, y_train, x_test, y_test):\n",
    "    from sklearn.semi_supervised import LabelSpreading\n",
    "    sel = LabelSpreading()\n",
    "    sel.fit(x_train, y_train)\n",
    "    value = sel.score(x_test, y_test)\n",
    "    return \"{0:.2f}\".format(value)"
   ]
  },
  {
   "cell_type": "code",
   "execution_count": 249,
   "metadata": {},
   "outputs": [],
   "source": [
    "\"\"\"\n",
    "32. LabelPropagation \n",
    "\"\"\"\n",
    "def label_propagation(x_train, y_train, x_test, y_test):\n",
    "    from sklearn.semi_supervised import LabelPropagation\n",
    "    sel = LabelPropagation()\n",
    "    sel.fit(x_train, y_train)\n",
    "    value = sel.score(x_test, y_test)\n",
    "    return \"{0:.2f}\".format(value)"
   ]
  },
  {
   "cell_type": "markdown",
   "metadata": {},
   "source": [
    "# Neural network models"
   ]
  },
  {
   "cell_type": "code",
   "execution_count": 250,
   "metadata": {},
   "outputs": [],
   "source": [
    "\"\"\"\n",
    "33. Classification neural network \n",
    "\"\"\"\n",
    "def mlp_classifier(x_train, y_train, x_test, y_test):\n",
    "    from sklearn.neural_network import MLPClassifier\n",
    "    nn = MLPClassifier()\n",
    "    nn.fit(x_train, y_train)\n",
    "    value = nn.score(x_test, y_test)\n",
    "    return \"{0:.2f}\".format(value)"
   ]
  },
  {
   "cell_type": "code",
   "execution_count": 251,
   "metadata": {},
   "outputs": [],
   "source": [
    "\"\"\"\n",
    "34. Regressor neural network \n",
    "\"\"\"\n",
    "def mlp_regressor(x_train, y_train, x_test, y_test):\n",
    "    from sklearn.neural_network import MLPRegressor\n",
    "    nn = MLPRegressor()\n",
    "    nn.fit(x_train, y_train)\n",
    "    value = nn.score(x_test, y_test)\n",
    "    return \"{0:.2f}\".format(value)"
   ]
  },
  {
   "cell_type": "code",
   "execution_count": 265,
   "metadata": {},
   "outputs": [],
   "source": [
    "def main_function(x_train, y_train, x_test, y_test):\n",
    "    predictions_dict  = dict()\n",
    "    \n",
    "    predictions_dict['linear_regression'] = linear_regression(x_train, y_train, x_test, y_test)\n",
    "    predictions_dict['linear_ridge'] = linear_ridge(x_train, y_train, x_test, y_test)\n",
    "    predictions_dict['linear_lasso'] = linear_lasso(x_train, y_train, x_test, y_test)\n",
    "    predictions_dict['linear_lassolars'] = linear_lassolars(x_train, y_train, x_test, y_test)\n",
    "    predictions_dict['linear_bayesian_reidge'] = linear_bayesian_reidge(x_train, y_train, x_test, y_test)\n",
    "    predictions_dict['ransac_regressor'] = ransac_regressor(x_train, y_train, x_test, y_test)\n",
    "    predictions_dict['logistic_regression'] = logistic_regression(x_train, y_train, x_test, y_test)\n",
    "    \n",
    "    predictions_dict['linear_discriminant_analysis'] = linear_discriminant_analysis(x_train, y_train, x_test, y_test)\n",
    "    predictions_dict['quadratic_discriminant_analysis'] = quadratic_discriminant_analysis(x_train, y_train, x_test, y_test)\n",
    "    predictions_dict['linear_discriminant_analysis_auto'] = linear_discriminant_analysis_auto(x_train, y_train, x_test, y_test)\n",
    "    predictions_dict['linear_discriminant_analysis_none'] = linear_discriminant_analysis_none(x_train, y_train, x_test, y_test)\n",
    "    \n",
    "    predictions_dict['svc'] = svc(x_train, y_train, x_test, y_test)\n",
    "    predictions_dict['svr']  = svr(x_train, y_train, x_test, y_test)\n",
    "    predictions_dict['linear_svc'] = linear_svc(x_train, y_train, x_test, y_test)\n",
    "    \n",
    "    predictions_dict['sgd_classifier'] = sgd_classifier(x_train, y_train, x_test, y_test)\n",
    "    predictions_dict['sdg_regressor'] = sdg_regressor(x_train, y_train, x_test, y_test)\n",
    "    \n",
    "    predictions_dict['nearest_centroid'] =  nearest_centroid(x_train, y_train, x_test, y_test)\n",
    "    predictions_dict['kneighbors_classifier'] = kneighbors_classifier(x_train, y_train, x_test, y_test)\n",
    "    \n",
    "    predictions_dict['gaussian_nb'] = gaussian_nb(x_train, y_train, x_test, y_test)\n",
    "    predictions_dict['bernoulli_nb'] = bernoulli_nb(x_train, y_train, x_test, y_test)\n",
    "    predictions_dict['multinomial_nb'] = multinomial_nb(x_train, y_train, x_test, y_test)\n",
    "    \n",
    "    predictions_dict['decision_tree_classifier'] = decision_tree_classifier(x_train, y_train, x_test, y_test)\n",
    "    predictions_dict['decision_tree_regressor'] = decision_tree_regressor(x_train, y_train, x_test, y_test)\n",
    "    \n",
    "    predictions_dict['bagging_classifier'] = bagging_classifier(x_train, y_train, x_test, y_test)\n",
    "    predictions_dict['random_forest_classifier'] = random_forest_classifier(x_train, y_train, x_test, y_test)\n",
    "    predictions_dict['extra_trees_classifier'] = extra_trees_classifier(x_train, y_train, x_test, y_test)\n",
    "    predictions_dict['ada_boost_classifier'] = ada_boost_classifier(x_train, y_train, x_test, y_test)\n",
    "    predictions_dict['gradient_boosting_classifier'] = gradient_boosting_classifier(x_train, y_train, x_test, y_test)\n",
    "    predictions_dict['gradient_boosting_regressor'] = gradient_boosting_regressor(x_train, y_train, x_test, y_test)\n",
    "    predictions_dict['hist_gradient_boosting_classifier'] = hist_gradient_boosting_classifier(x_train, y_train, x_test, y_test)\n",
    "    \n",
    "    predictions_dict['label_spreading'] = label_spreading(x_train, y_train, x_test, y_test)\n",
    "    predictions_dict['label_propagation'] = label_propagation(x_train, y_train, x_test, y_test)\n",
    "    \n",
    "    predictions_dict['mlp_classifier'] = mlp_classifier(x_train, y_train, x_test, y_test)\n",
    "    predictions_dict['mlp_regressor'] =mlp_regressor(x_train, y_train, x_test, y_test)\n",
    "    \n",
    "    return predictions_dict"
   ]
  },
  {
   "cell_type": "code",
   "execution_count": 266,
   "metadata": {},
   "outputs": [
    {
     "name": "stderr",
     "output_type": "stream",
     "text": [
      "/home/baskaran/aswin/wand/lib64/python3.7/site-packages/sklearn/linear_model/_logistic.py:940: ConvergenceWarning: lbfgs failed to converge (status=1):\n",
      "STOP: TOTAL NO. of ITERATIONS REACHED LIMIT.\n",
      "\n",
      "Increase the number of iterations (max_iter) or scale the data as shown in:\n",
      "    https://scikit-learn.org/stable/modules/preprocessing.html\n",
      "Please also refer to the documentation for alternative solver options:\n",
      "    https://scikit-learn.org/stable/modules/linear_model.html#logistic-regression\n",
      "  extra_warning_msg=_LOGISTIC_SOLVER_CONVERGENCE_MSG)\n",
      "/home/baskaran/aswin/wand/lib64/python3.7/site-packages/sklearn/discriminant_analysis.py:691: UserWarning: Variables are collinear\n",
      "  warnings.warn(\"Variables are collinear\")\n",
      "/home/baskaran/aswin/wand/lib64/python3.7/site-packages/sklearn/svm/_base.py:947: ConvergenceWarning: Liblinear failed to converge, increase the number of iterations.\n",
      "  \"the number of iterations.\", ConvergenceWarning)\n",
      "/home/baskaran/aswin/wand/lib64/python3.7/site-packages/sklearn/semi_supervised/_label_propagation.py:201: RuntimeWarning: invalid value encountered in true_divide\n",
      "  probabilities /= normalizer\n",
      "/home/baskaran/aswin/wand/lib64/python3.7/site-packages/sklearn/semi_supervised/_label_propagation.py:201: RuntimeWarning: invalid value encountered in true_divide\n",
      "  probabilities /= normalizer\n",
      "/home/baskaran/aswin/wand/lib64/python3.7/site-packages/sklearn/neural_network/_multilayer_perceptron.py:571: ConvergenceWarning: Stochastic Optimizer: Maximum iterations (200) reached and the optimization hasn't converged yet.\n",
      "  % self.max_iter, ConvergenceWarning)\n"
     ]
    }
   ],
   "source": [
    "predict_scores = main_function(x_train, y_train, x_test, y_test)"
   ]
  },
  {
   "cell_type": "code",
   "execution_count": 295,
   "metadata": {},
   "outputs": [
    {
     "name": "stdout",
     "output_type": "stream",
     "text": [
      "[{'Algorithm': 'svc', 'Accuracy': '0.99'}, {'Algorithm': 'extra_trees_classifier', 'Accuracy': '0.98'}, {'Algorithm': 'logistic_regression', 'Accuracy': '0.97'}, {'Algorithm': 'kneighbors_classifier', 'Accuracy': '0.97'}, {'Algorithm': 'hist_gradient_boosting_classifier', 'Accuracy': '0.97'}, {'Algorithm': 'mlp_classifier', 'Accuracy': '0.97'}, {'Algorithm': 'linear_discriminant_analysis_auto', 'Accuracy': '0.96'}, {'Algorithm': 'gradient_boosting_classifier', 'Accuracy': '0.96'}, {'Algorithm': 'linear_discriminant_analysis', 'Accuracy': '0.95'}, {'Algorithm': 'linear_discriminant_analysis_none', 'Accuracy': '0.95'}]\n"
     ]
    }
   ],
   "source": [
    "import operator\n",
    "sorted_d = dict( sorted(predict_scores.items(), key=operator.itemgetter(1),reverse=True))\n",
    "\n",
    "top_10 = list(sorted_d.keys())[0:10]\n",
    "\n",
    "list_value = list()\n",
    "predict_values = list()\n",
    "\n",
    "for i in top_10:\n",
    "    re_insert = dict()\n",
    "    re_insert[\"Algorithm\"] = i\n",
    "    re_insert['Accuracy'] = sorted_d[i]\n",
    "    predict_values.append(sorted_d[i])\n",
    "    list_value.append(re_insert)\n",
    "    \n",
    "print(list_value)"
   ]
  },
  {
   "cell_type": "code",
   "execution_count": 300,
   "metadata": {},
   "outputs": [
    {
     "data": {
      "image/png": "[encoded data removed]",
      "text/plain": [
       "<Figure size 432x288 with 1 Axes>"
      ]
     },
     "metadata": {
      "needs_background": "light"
     },
     "output_type": "display_data"
    }
   ],
   "source": [
    "import matplotlib.pyplot as plt \n",
    "\n",
    "left = [1, 2, 3, 4, 5, 6, 7, 8, 9, 10]\n",
    "\n",
    "plt.bar(left, predict_values, tick_label = top_10, \n",
    "        width = 0.8, color = ['black'])\n",
    "plt.xlabel('x - axis') \n",
    "plt.ylabel('y - axis') \n",
    "plt.title('My bar chart!') \n",
    "plt.show() "
   ]
  },
  {
   "cell_type": "code",
   "execution_count": null,
   "metadata": {},
   "outputs": [],
   "source": []
  }
 ],
 "metadata": {
  "kernelspec": {
   "display_name": "Python 3",
   "language": "python",
   "name": "python3"
  },
  "language_info": {
   "codemirror_mode": {
    "name": "ipython",
    "version": 3
   },
   "file_extension": ".py",
   "mimetype": "text/x-python",
   "name": "python",
   "nbconvert_exporter": "python",
   "pygments_lexer": "ipython3",
   "version": "3.7.6"
  }
 },
 "nbformat": 4,
 "nbformat_minor": 4
}
